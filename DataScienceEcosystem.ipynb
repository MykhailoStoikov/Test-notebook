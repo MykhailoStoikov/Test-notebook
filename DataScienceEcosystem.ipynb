{
 "cells": [
  {
   "cell_type": "markdown",
   "id": "413a806e-b0a7-4221-b1bb-61c41423bceb",
   "metadata": {},
   "source": [
    "# Data Science Tools and Ecosystem"
   ]
  },
  {
   "cell_type": "markdown",
   "id": "52c36af0-8a78-416e-bddf-4a25c17cc8f9",
   "metadata": {},
   "source": [
    "In this notebook, Data Science Tools and Ecosystem are summarized."
   ]
  },
  {
   "cell_type": "markdown",
   "id": "d46db33e-7b1b-4f4c-b06b-2879da8827aa",
   "metadata": {},
   "source": [
    "Some of the popular languages that Data Scientists use are:"
   ]
  },
  {
   "cell_type": "markdown",
   "id": "ce81c6d6-1ac7-431f-aed9-4ad260726844",
   "metadata": {},
   "source": [
    "1. Python\n",
    "2. R\n",
    "3. Java\n",
    "\n",
    "Some of the commonly used libraries used by Data Scientists include:\n",
    "1. NumPy\n",
    "2. Matplotlib\n",
    "3. Pandas"
   ]
  },
  {
   "cell_type": "code",
   "execution_count": 28,
   "id": "3542e50e-ec64-463e-9057-7965227758f4",
   "metadata": {
    "tags": []
   },
   "outputs": [
    {
     "data": {
      "text/html": [
       "<div>\n",
       "<style scoped>\n",
       "    .dataframe tbody tr th:only-of-type {\n",
       "        vertical-align: middle;\n",
       "    }\n",
       "\n",
       "    .dataframe tbody tr th {\n",
       "        vertical-align: top;\n",
       "    }\n",
       "\n",
       "    .dataframe thead th {\n",
       "        text-align: right;\n",
       "    }\n",
       "</style>\n",
       "<table border=\"1\" class=\"dataframe\">\n",
       "  <thead>\n",
       "    <tr style=\"text-align: right;\">\n",
       "      <th></th>\n",
       "      <th>Data Science Tools</th>\n",
       "    </tr>\n",
       "  </thead>\n",
       "  <tbody>\n",
       "    <tr>\n",
       "      <th>0</th>\n",
       "      <td>Jupyter Notebooks</td>\n",
       "    </tr>\n",
       "    <tr>\n",
       "      <th>1</th>\n",
       "      <td>Anakonda</td>\n",
       "    </tr>\n",
       "    <tr>\n",
       "      <th>2</th>\n",
       "      <td>IBM Watson Studio</td>\n",
       "    </tr>\n",
       "  </tbody>\n",
       "</table>\n",
       "</div>"
      ],
      "text/plain": [
       "  Data Science Tools\n",
       "0  Jupyter Notebooks\n",
       "1           Anakonda\n",
       "2  IBM Watson Studio"
      ]
     },
     "execution_count": 28,
     "metadata": {},
     "output_type": "execute_result"
    }
   ],
   "source": [
    "import pandas as pd\n",
    "data = {'Data Science Tools':['Jupyter Notebooks', ' Anakonda', 'IBM Watson Studio']}\n",
    "df = pd.DataFrame(data)\n",
    "df"
   ]
  },
  {
   "cell_type": "markdown",
   "id": "2c004723-296c-493c-ad9d-8d32c374b8d0",
   "metadata": {},
   "source": [
    "Below are a few examples of evaluating arithmetic expressions in Python"
   ]
  },
  {
   "cell_type": "code",
   "execution_count": 31,
   "id": "747be9f8-4572-4406-a289-4d25dcc88c49",
   "metadata": {
    "tags": []
   },
   "outputs": [
    {
     "name": "stdout",
     "output_type": "stream",
     "text": [
      "This a simple arithmetic expression to mutiply then add integers\n"
     ]
    },
    {
     "data": {
      "text/plain": [
       "17"
      ]
     },
     "execution_count": 31,
     "metadata": {},
     "output_type": "execute_result"
    }
   ],
   "source": [
    "print (\"This a simple arithmetic expression to mutiply then add integers\")\n",
    "(3*4)+5"
   ]
  },
  {
   "cell_type": "code",
   "execution_count": 32,
   "id": "bb8cdd64-2118-47ed-bdaa-7a03130e7ba4",
   "metadata": {
    "tags": []
   },
   "outputs": [
    {
     "name": "stdout",
     "output_type": "stream",
     "text": [
      "This will convert 200 minutes to hours by diving by 60\n"
     ]
    },
    {
     "data": {
      "text/plain": [
       "3.3333333333333335"
      ]
     },
     "execution_count": 32,
     "metadata": {},
     "output_type": "execute_result"
    }
   ],
   "source": [
    "print (\"This will convert 200 minutes to hours by diving by 60\")\n",
    "200/60"
   ]
  },
  {
   "cell_type": "markdown",
   "id": "bc996c70-39b6-4d15-a97d-4d594b8566fd",
   "metadata": {
    "tags": []
   },
   "source": [
    "__Objectives__:\n",
    "- List popular languages for Data Science\n",
    "- List commonly used libraries used by Data scientists\n",
    "- Show examples of evaluating arithmetic expressions in Python"
   ]
  },
  {
   "cell_type": "markdown",
   "id": "76a69f03-1694-49d6-8943-d4c1a989a366",
   "metadata": {
    "tags": []
   },
   "source": [
    "# Author\n",
    "Mykhailo Stoikov"
   ]
  },
  {
   "cell_type": "code",
   "execution_count": null,
   "id": "7ddd5b19-8475-4b99-a2cb-366873bd2d29",
   "metadata": {},
   "outputs": [],
   "source": []
  }
 ],
 "metadata": {
  "kernelspec": {
   "display_name": "Python",
   "language": "python",
   "name": "conda-env-python-py"
  },
  "language_info": {
   "codemirror_mode": {
    "name": "ipython",
    "version": 3
   },
   "file_extension": ".py",
   "mimetype": "text/x-python",
   "name": "python",
   "nbconvert_exporter": "python",
   "pygments_lexer": "ipython3",
   "version": "3.7.12"
  }
 },
 "nbformat": 4,
 "nbformat_minor": 5
}
